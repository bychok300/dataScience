{
 "cells": [
  {
   "cell_type": "code",
   "execution_count": 3,
   "metadata": {
    "collapsed": true
   },
   "outputs": [],
   "source": [
    "library(stats)\n",
    "library(dplyr)\n",
    "library(tidyr)\n",
    "library(ggplot2)"
   ]
  },
  {
   "cell_type": "code",
   "execution_count": 5,
   "metadata": {},
   "outputs": [
    {
     "name": "stderr",
     "output_type": "stream",
     "text": [
      "`geom_smooth()` using method = 'loess'\n"
     ]
    }
   ],
   "source": [
    "\n",
    "temps = read.csv(\"GlobalLandTemperaturesByCity.csv\")\n",
    "temps <- temps %>%\n",
    "  filter(Country==\"Russia\")  %>%\n",
    "  separate(col = dt, into = c(\"Year\", \"Month\", \"Day\"), convert = TRUE)\n",
    "temps<-na.omit(temps)\n",
    "\n",
    "temps <- temps %>% \n",
    "  filter(Year>1900) %>%\n",
    "  group_by(Year) %>% \n",
    "  summarise(Temp = mean(AverageTemperature))\n",
    "\n",
    "p <- qplot(Year,\n",
    "           Temp,\n",
    "           data=temps,\n",
    "           main=\"Russia Average Temperature 1900-2013\",\n",
    "           geom=c(\"point\",\"smooth\")) +\n",
    "     aes(colour = Temp) +\n",
    "     scale_color_gradient(low=\"blue\", high=\"red\") +\n",
    "     ylab(\"Temperature (°C)\")\n",
    "ggsave(\"res.png\", p, width=7, height=4, units=\"in\")"
   ]
  },
  {
   "cell_type": "code",
   "execution_count": null,
   "metadata": {
    "collapsed": true
   },
   "outputs": [],
   "source": []
  }
 ],
 "metadata": {
  "kernelspec": {
   "display_name": "R",
   "language": "R",
   "name": "ir"
  },
  "language_info": {
   "codemirror_mode": "r",
   "file_extension": ".r",
   "mimetype": "text/x-r-source",
   "name": "R",
   "pygments_lexer": "r",
   "version": "3.4.1"
  }
 },
 "nbformat": 4,
 "nbformat_minor": 2
}
